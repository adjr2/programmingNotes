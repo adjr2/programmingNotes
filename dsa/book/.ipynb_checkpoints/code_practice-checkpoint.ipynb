{
 "cells": [
  {
   "cell_type": "code",
   "execution_count": null,
   "metadata": {
    "scrolled": false
   },
   "outputs": [],
   "source": [
    "# Make Change: program to return the change at the cashier given that it has to return least number of notes and coins.\n",
    "\n",
    "cost = float(input(\"Enter the cost: \"))\n",
    "money_given = float(input(\"Enter the money given: \"))\n",
    "\n",
    "# Denomination available: Notes: 50, 20, 10, 5; coins: 2, 1, 0.50, 0.20, 0.10, 0.05, 0.02, 0.01\n",
    "notes = [50, 20, 10, 5]\n",
    "coins = [2, 1, 0.50, 0.20, 0.10, 0.05, 0.02, 0.01]\n",
    "notes_dic = {50:'50 Euro', 20:'20 Euro', 10: '10 Euro', 5: '5 Euro'}\n",
    "coins_dic = {2: '2 Euro', 1: '1 Euro', 0.50: '50 Cent', 0.20: '20 Cent', 0.10: '10 Cent', 0.05: '5 Cent', 0.02: '2 Cent', 0.01: '1 Cent'}\n",
    "denomination_return = []\n",
    "money_return = money_given - cost\n",
    "if money_return < 0:\n",
    "    print(\"You have to give more money. Shutting the program\")\n",
    "elif money_return == 0:\n",
    "    print(\"Money to be return is: 0\")\n",
    "else:\n",
    "    for i in range(len(notes)):\n",
    "        while True:\n",
    "            if money_return - notes[i] >= 0:\n",
    "                money_return = money_return - notes[i]\n",
    "                denomination_return.append(notes[i])\n",
    "            else:\n",
    "                break\n",
    "    for i in range(len(coins)):\n",
    "        while True:\n",
    "            if money_return - coins[i] >= 0:\n",
    "                money_return = money_return - coins[i]\n",
    "                denomination_return.append(coins[i])\n",
    "            else:\n",
    "                break\n",
    "    print(\"Denomination to be return: \")\n",
    "    for i in range(len(denomination_return)):\n",
    "        if denomination_return[i] in notes:\n",
    "            print(notes_dic[denomination_return[i]])\n",
    "        else:\n",
    "            print(coins_dic[denomination_return[i]])"
   ]
  },
  {
   "cell_type": "code",
   "execution_count": null,
   "metadata": {},
   "outputs": [],
   "source": []
  }
 ],
 "metadata": {
  "kernelspec": {
   "display_name": "Python 3",
   "language": "python",
   "name": "python3"
  },
  "language_info": {
   "codemirror_mode": {
    "name": "ipython",
    "version": 3
   },
   "file_extension": ".py",
   "mimetype": "text/x-python",
   "name": "python",
   "nbconvert_exporter": "python",
   "pygments_lexer": "ipython3",
   "version": "3.8.5"
  }
 },
 "nbformat": 4,
 "nbformat_minor": 4
}
