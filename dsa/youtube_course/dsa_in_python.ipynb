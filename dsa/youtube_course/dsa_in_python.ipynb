{
 "cells": [
  {
   "attachments": {},
   "cell_type": "markdown",
   "metadata": {},
   "source": [
    "### This notebook has the notes of the YouTube course: [Data Structures and Algorithms in Python - Full Course for Beginners](https://www.youtube.com/watch?v=pkYVOmU3MgA)"
   ]
  },
  {
   "attachments": {},
   "cell_type": "markdown",
   "metadata": {},
   "source": [
    "#### The Method:\n",
    "- Here's the systematic strtegy we'll apply for solving problems:\n",
    "1. State the problem clearly. Identify the input and output formats.\n",
    "2. Come up with some example inputs and outputs. Try to cover all edge cases.\n",
    "3. Come up with a correct solution for the problem. State it in plain English.\n",
    "4. Implement the solution and test it using example inputs. Fix bugs, if any.\n",
    "5. Analyze the algorithm's complexity and identify inefficiencies, if any.\n",
    "6. Apply the right technique to overcome the inefficiency. Repeat steps 3 to 6."
   ]
  },
  {
   "cell_type": "code",
   "execution_count": 2,
   "metadata": {},
   "outputs": [],
   "source": [
    "def locate_card(cards, query):\n",
    "    pass\n"
   ]
  },
  {
   "cell_type": "code",
   "execution_count": 4,
   "metadata": {},
   "outputs": [],
   "source": [
    "test = {input: {\"cards\": [13, 12, 10, 7, 4, 2, 1], \"query\": 7}, \n",
    "\"output\": 4}\n",
    "\n",
    "locate_card(**test)"
   ]
  },
  {
   "attachments": {},
   "cell_type": "markdown",
   "metadata": {},
   "source": [
    "##### Binary Search general strategry:\n",
    "1. Come up with a condition to determine whether the answer lies before, afer or at a given position.\n",
    "2. Retrieve the midpoint and the middle element of the list.\n",
    "3. If it is the answer, return the middle position as the answer.\n",
    "4. If answer lies before it, repeat the search with the first half of the list.\n",
    "5. If the answer lies after it, repeat the search with the second half of the list.\n"
   ]
  },
  {
   "cell_type": "code",
   "execution_count": null,
   "metadata": {},
   "outputs": [],
   "source": [
    "# Generic Binary Search\n",
    "def binary_search(low, high, condition):\n",
    "    while low <= high:\n",
    "        mid = (low + high)//2 #integer division\n",
    "        result = condition(mid)\n",
    "        if result == 'found': # result is found.\n",
    "            return mid\n",
    "        elif result == 'left': # here it means that the index should move to the left.\n",
    "            high = mid - 1\n",
    "        else:\n",
    "            low = mid + 1\n",
    "    return -1 # if condition doesn't match"
   ]
  },
  {
   "attachments": {},
   "cell_type": "markdown",
   "metadata": {},
   "source": [
    "#### Rotated Lists:\n",
    "- We define \"rotating a list\" as removing the last element of the lsit and adding it before the first element. E.g. rotating the list `[3, 2, 4, 1]` produces `[1, 3, 2, 4]`.\n",
    "- Binary Search stretegy: If the middle element of the list is smaller than the last element of the range, then the answer lies to the left of it. Otherwise, the answer lies to the right."
   ]
  },
  {
   "cell_type": "code",
   "execution_count": 1,
   "metadata": {},
   "outputs": [],
   "source": [
    "# Binary Tree\n",
    "class TreeNode:\n",
    "    def __init__(self, key):\n",
    "        self.key = key\n",
    "        self.left = None\n",
    "        self.right = None\n",
    "\n",
    "# instantiating\n",
    "node0 = TreeNode(3)\n",
    "node1 = TreeNode(4)\n",
    "node2 = TreeNode(5)\n",
    "\n",
    "# connecting the nodes\n",
    "node0.left = node1\n",
    "node0.right = node2"
   ]
  },
  {
   "cell_type": "code",
   "execution_count": 3,
   "metadata": {},
   "outputs": [],
   "source": [
    "# creating tree like above is not efficient. Therefore, we will create a tuple like structure where element at index 0 is left node, at index 1 tree node, at index 2 right node.\n",
    "def parse_tuple(data):\n",
    "    if isinstance(data, tuple) and len(data) == 3:\n",
    "        node = TreeNode(data[1])\n",
    "        node.left = parse_tuple(data[0])\n",
    "        node.right = parse_tuple(data[2])\n",
    "    elif data is None:\n",
    "        node = None\n",
    "    else: # terminating condition of recursion\n",
    "        node = TreeNode(data)\n",
    "    return node"
   ]
  },
  {
   "attachments": {},
   "cell_type": "markdown",
   "metadata": {},
   "source": [
    "##### Traversing a Binary Tree\n",
    "- _Traversal_ refers to the process of visiting each node o f a tree exactly once. _Visiting a node_ generally refers to adding the node's key to a list. There are three ways to traverse a bbinary tree and return the list of visited keys:\n",
    "1. **Inorder traversal**\n",
    "    1. Traverse the left subtree recursively inorder.\n",
    "    2. Traverse the current node.\n",
    "    3. Traverse the right subtree recursively inorder.\n",
    "2. **Preorder Traversal**\n",
    "    1. Traverse the current node.\n",
    "    2. Traverse the left subtree recursively preorder.\n",
    "    3. Traverse the right subtree recursively preorder.\n",
    "3. **Postorder Traversal**\n",
    "    - https://www.javatpoint.com/postorder-traversal"
   ]
  },
  {
   "attachments": {},
   "cell_type": "markdown",
   "metadata": {},
   "source": [
    "##### Binary Search Tree\n",
    "- Has the same logic\n",
    "- Doubt: does insertion disturb the tree structure? Answer: No! The new value simply get added as per the logic of the tree. If the new value is higher then on the right side otherwise on the left side. Note: the order of insertion can change the structure of the tree.\n",
    "- Doubt: How to tree and maintain balanced tree? At least in the video they start with a sort array then it is obvious. Or if you have an unbalance tree then create a function that list all (using inorder traversal) the nodes then create a balance"
   ]
  }
 ],
 "metadata": {
  "kernelspec": {
   "display_name": "Python 3",
   "language": "python",
   "name": "python3"
  },
  "language_info": {
   "codemirror_mode": {
    "name": "ipython",
    "version": 3
   },
   "file_extension": ".py",
   "mimetype": "text/x-python",
   "name": "python",
   "nbconvert_exporter": "python",
   "pygments_lexer": "ipython3",
   "version": "3.9.2"
  },
  "orig_nbformat": 4
 },
 "nbformat": 4,
 "nbformat_minor": 2
}
