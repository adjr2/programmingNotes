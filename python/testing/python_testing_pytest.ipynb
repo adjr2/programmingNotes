{
 "cells": [
  {
   "cell_type": "markdown",
   "metadata": {},
   "source": [
    "## [Effective Python Testing With Pytest](https://realpython.com/pytest-python-testing/)"
   ]
  },
  {
   "cell_type": "markdown",
   "metadata": {},
   "source": [
    "#### What Makes pytest So Useful?\n",
    "- Most functional tests follow the Arrange-Act-Assert model:\n",
    "    1. Arrange, or set up, the conditions for the test\n",
    "    2. Act by calling some function or method\n",
    "    3. Assert that some end condition is true\n",
    "\n",
    "- `pytest` simplifies this workflow by allowing you to use normal functions and Python’s assert keyword directly:\n",
    "```python\n",
    "def test_always_passes():\n",
    "    assert True\n",
    "\n",
    "def test_always_fails():\n",
    "    assert False\n",
    "```\n",
    "- You don’t need any imports or classes. All you need to do is include a function with the `test_` prefix. Because you can use the `assert` keyword, you don’t need to learn or remember all the different `self.assert*` methods in `unittest`, either. If you can write an expression that you expect to evaluate to True, and then pytest will test it for you.\n",
    "- `pytest` eliminates a lot of boilerplate and also provides a much more detailed and easy-to-read output."
   ]
  },
  {
   "cell_type": "markdown",
   "metadata": {},
   "source": [
    "##### Nicer Output\n",
    "- You can run your test suite using the `pytest` command from the top-level folder of your project:\n",
    "```bash\n",
    "pytest\n",
    "```\n",
    "- `pytest` tests `unittest` as well if they follow the naming convention `test_`.\n",
    "- Output\n",
    "    - `.` means test passed.\n",
    "    - `F` means test failed.\n",
    "    - `E` means test raised an unexpected exception."
   ]
  },
  {
   "cell_type": "markdown",
   "metadata": {},
   "source": [
    "##### Easier to Manage State and Dependencies\n",
    "- Your tests will often depend on types of data or test doubles that mock objects your code is likely to encounter, such as dictionaries or JSON files.\n",
    "- With `unittest`, you might extract these dependencies into `.setUp()` and `.tearDown()` methods so that each test in the class can make use of them. Using these special methods is fine, but as your test classes get larger, you may inadvertently make the test’s dependence entirely **implicit**. In other words, by looking at one of the many tests in isolation, you may not immediately see that it depends on something else. Over time, implicit dependencies can lead to a complex tangle of code that you have to unwind to make sense of your tests. Tests should help to make your code more understandable.\n",
    "- `pytest` takes a different approach. It leads you toward **explicit** dependency declarations that are still reusable thanks to the availability of `fixtures`. `pytest` `fixtures` are functions that can create data, test doubles, or initialize system state for the test suite. Any test that wants to use a fixture must explicitly use this fixture function as an argument to the test function, so dependencies are always stated up front:\n",
    "```python\n",
    "import pytest\n",
    "\n",
    "@pytest.fixture\n",
    "def example_fixture():\n",
    "    return 1\n",
    "\n",
    "def test_with_fixture(example_fixture):\n",
    "    assert example_fixture == 1\n",
    "```\n",
    "\n",
    "- Fixtures can also make use of other fixtures, again by declaring them explicitly as dependencies. That means that, over time, your fixtures can become bulky and modular. (explained later in detail)"
   ]
  },
  {
   "cell_type": "markdown",
   "metadata": {},
   "source": [
    "##### Easy to Filter Tests\n",
    "- As your test suite grows, you may find that you want to run just a few tests on a feature and save the full suite for later. `pytest` provides a few ways of doing this:\n",
    "    - **Name-based filtering**: You can limit pytest to running only those tests whose fully qualified names match a particular expression. You can do this with the `-k` parameter.\n",
    "    - **Directory scoping**: By default, `pytest` will run only those tests that are in or under the current directory.\n",
    "    - **Test categorization**: `pytest` can include or exclude tests from particular categories that you define. You can do this with the `-m` parameter.\n",
    "- `pytest` enables you to create marks, or custom labels, for any test you like. A test may have multiple labels, and you can use them for granular control over which tests to run. (explained later in detail)"
   ]
  },
  {
   "cell_type": "markdown",
   "metadata": {},
   "source": [
    "##### Allows Test Parametrization\n",
    "- When you’re testing functions that process data or perform generic transformations, you’ll find yourself writing many similar tests. They may differ only in the input or output of the code being tested. This requires duplicating test code, and doing so can sometimes obscure the behavior that you’re trying to test.\n",
    "- `pytest` offers solution in which each test can pass or fail independently (which is not the case in `unittest`)."
   ]
  },
  {
   "cell_type": "markdown",
   "metadata": {},
   "source": [
    "#### Fixtures: Managing State and Dependencies\n",
    "##### How to Use Fixtures at Scale\n",
    "- In `pytest`, fixtures are **modular**. Being modular means that fixtures can be imported, can import other modules, and they can depend on and import other fixtures.\n",
    "- If you want to make a fixture available for your whole project without having to import it, a special configuration module called *conftest.py* will allow you to do that. `pytest` looks for a *conftest.py* module in each directory. If you add your general-purpose fixtures to the *conftest.py* module, then you’ll be able to use that fixture throughout the module’s parent directory and in any subdirectories without having to import it.\n",
    "- Another interesting use case for fixtures and conftest.py is in guarding access to resources. Imagine that you’ve written a test suite for code that deals with API calls. You want to ensure that the test suite doesn’t make any real network calls even if someone accidentally writes a test that does so.\n",
    "- `pytest` provides a *monkeypatch* fixture to replace values and behaviors, which you can use to great effect:\n",
    "```python\n",
    "import pytest\n",
    "import requests\n",
    "\n",
    "@pytest.fixture(autouse=True)\n",
    "def disable_network_calls(monkeypatch):\n",
    "    def stunted_get():\n",
    "        raise RuntimeError(\"Network access not allowed during testing!\")\n",
    "    monkeypatch.setattr(requests, \"get\", lambda *args, **kwargs: stunted_get())\n",
    "```\n",
    "- By placing `disable_network_calls()` in *conftest.py* and adding the `autouse=True` option, you ensure that network calls will be disabled in every test across the suite. Any test that executes code calling `requests.get()` will raise a `RuntimeError` indicating that an unexpected network call would have occurred."
   ]
  },
  {
   "cell_type": "markdown",
   "metadata": {},
   "source": [
    "#### Marks: Categorizing Tests\n",
    "- `pytest` enables you to define categories for your tests and provides options for including or excluding categories when you run your suite. You can mark a test with any number of categories.\n",
    "- Because you can give your marks any name you want, it can be easy to mistype or misremember the name of a mark. `pytest` will warn you about marks that it doesn’t recognize in the test output. You can use the `--strict-markers` flag to the pytest command to ensure that all marks in your tests are registered in your pytest configuration file, `pytest.ini`. It’ll prevent you from running your tests until you register any unknown marks.\n",
    "-  If you’d like to run only those tests that require database access (for example), then you can use `pytest -m database_access`. To run all tests except those that require database access, you can use `pytest -m \"not database_access\"`. You can even use an autouse fixture to limit database access to those tests marked with database_access.\n",
    "- The `pytest-django` plugin, for instance, provides a `django_db` mark. Any tests without this mark that try to access the database will fail. The first test that tries to access the database will trigger the creation of Django’s test database.\n",
    "\n",
    "- `pytest` provides a few marks out of the box:\n",
    "    - *skip* skips a test unconditionally.\n",
    "    - *skipif* skips a test if the expression passed to it evaluates to True.\n",
    "    - *xfail* indicates that a test is expected to fail, so if the test does fail, the overall suite can still result in a passing status.\n",
    "    - *parametrize* creates multiple variants of a test with different values as arguments. (later)\n",
    "- You can see a list of all the marks that pytest knows about by running `pytest --markers`."
   ]
  },
  {
   "cell_type": "markdown",
   "metadata": {},
   "source": [
    "#### Parametrization: Combining Tests\n",
    "```python\n",
    "@pytest.mark.parametrize(\"palindrome\", [\n",
    "    \"\",\n",
    "    \"a\",\n",
    "    \"Bob\",\n",
    "    \"Never odd or even\",\n",
    "    \"Do geese see God?\",\n",
    "])\n",
    "def test_is_palindrome(palindrome):\n",
    "    assert is_palindrome(palindrome)\n",
    "\n",
    "@pytest.mark.parametrize(\"non_palindrome\", [\n",
    "    \"abc\",\n",
    "    \"abab\",\n",
    "])\n",
    "def test_is_palindrome_not_palindrome(non_palindrome):\n",
    "    assert not is_palindrome(non_palindrome)\n",
    "```\n",
    "\n",
    "- The first argument to parametrize() is a comma-delimited string of parameter names. The second argument is a list of either tuples or single values that represent the parameter value(s). You could take your parametrization a step further to combine all your tests into one:\n",
    "```python\n",
    "# not advised as it combine two different assert conditions\n",
    "@pytest.mark.parametrize(\"maybe_palindrome, expected_result\", [\n",
    "    (\"\", True),\n",
    "    (\"a\", True),\n",
    "    (\"Bob\", True),\n",
    "    (\"Never odd or even\", True),\n",
    "    (\"Do geese see God?\", True),\n",
    "    (\"abc\", False),\n",
    "    (\"abab\", False),\n",
    "])\n",
    "def test_is_palindrome(maybe_palindrome, expected_result):\n",
    "    assert is_palindrome(maybe_palindrome) == expected_result\n",
    "```"
   ]
  },
  {
   "cell_type": "markdown",
   "metadata": {},
   "source": [
    "#### Useful pytest Plugins\n",
    "##### pytest-randomly\n",
    "- pytest-randomly forces your tests to run in a random order. This is a great way to uncover tests that depend on running in a specific order, which means they have a stateful dependency on some other test.\n",
    "##### pytest-cov\n",
    "- If you want to measure how well your tests cover your implementation code, then you can use the coverage package."
   ]
  }
 ],
 "metadata": {
  "language_info": {
   "name": "python"
  },
  "orig_nbformat": 4
 },
 "nbformat": 4,
 "nbformat_minor": 2
}
