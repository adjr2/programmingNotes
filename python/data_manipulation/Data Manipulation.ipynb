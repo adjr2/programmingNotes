{
 "cells": [
  {
   "cell_type": "code",
   "execution_count": 3,
   "metadata": {
    "collapsed": true
   },
   "outputs": [],
   "source": [
    "import numpy as np\n",
    "import pandas as pd"
   ]
  },
  {
   "cell_type": "code",
   "execution_count": 4,
   "metadata": {},
   "outputs": [],
   "source": [
    "salary=pd.read_csv(\"basic_salary2.csv\")"
   ]
  },
  {
   "cell_type": "code",
   "execution_count": 13,
   "metadata": {
    "collapsed": true
   },
   "outputs": [
    {
     "name": "stdout",
     "output_type": "stream",
     "text": [
      "<class 'pandas.core.frame.DataFrame'>\n",
      "RangeIndex: 41 entries, 0 to 40\n",
      "Data columns (total 7 columns):\n",
      "First_Name    41 non-null object\n",
      "Last_Name     41 non-null object\n",
      "Grade         40 non-null object\n",
      "Location      38 non-null object\n",
      "Function      39 non-null object\n",
      "ba            39 non-null float64\n",
      "ms            37 non-null float64\n",
      "dtypes: float64(2), object(5)\n",
      "memory usage: 2.3+ KB\n"
     ]
    }
   ],
   "source": [
    "salary.info()"
   ]
  },
  {
   "cell_type": "code",
   "execution_count": 14,
   "metadata": {
    "collapsed": true
   },
   "outputs": [
    {
     "data": {
      "text/html": [
       "<div>\n",
       "<style>\n",
       "    .dataframe thead tr:only-child th {\n",
       "        text-align: right;\n",
       "    }\n",
       "\n",
       "    .dataframe thead th {\n",
       "        text-align: left;\n",
       "    }\n",
       "\n",
       "    .dataframe tbody tr th {\n",
       "        vertical-align: top;\n",
       "    }\n",
       "</style>\n",
       "<table border=\"1\" class=\"dataframe\">\n",
       "  <thead>\n",
       "    <tr style=\"text-align: right;\">\n",
       "      <th></th>\n",
       "      <th>First_Name</th>\n",
       "      <th>Last_Name</th>\n",
       "      <th>Grade</th>\n",
       "      <th>Location</th>\n",
       "      <th>Function</th>\n",
       "      <th>ba</th>\n",
       "      <th>ms</th>\n",
       "    </tr>\n",
       "  </thead>\n",
       "  <tbody>\n",
       "    <tr>\n",
       "      <th>count</th>\n",
       "      <td>41</td>\n",
       "      <td>41</td>\n",
       "      <td>40</td>\n",
       "      <td>38</td>\n",
       "      <td>39</td>\n",
       "      <td>39.000000</td>\n",
       "      <td>37.000000</td>\n",
       "    </tr>\n",
       "    <tr>\n",
       "      <th>unique</th>\n",
       "      <td>37</td>\n",
       "      <td>38</td>\n",
       "      <td>2</td>\n",
       "      <td>2</td>\n",
       "      <td>3</td>\n",
       "      <td>NaN</td>\n",
       "      <td>NaN</td>\n",
       "    </tr>\n",
       "    <tr>\n",
       "      <th>top</th>\n",
       "      <td>Kavita</td>\n",
       "      <td>Singh</td>\n",
       "      <td>GR1</td>\n",
       "      <td>MUMBAI</td>\n",
       "      <td>SALES</td>\n",
       "      <td>NaN</td>\n",
       "      <td>NaN</td>\n",
       "    </tr>\n",
       "    <tr>\n",
       "      <th>freq</th>\n",
       "      <td>2</td>\n",
       "      <td>2</td>\n",
       "      <td>23</td>\n",
       "      <td>21</td>\n",
       "      <td>15</td>\n",
       "      <td>NaN</td>\n",
       "      <td>NaN</td>\n",
       "    </tr>\n",
       "    <tr>\n",
       "      <th>mean</th>\n",
       "      <td>NaN</td>\n",
       "      <td>NaN</td>\n",
       "      <td>NaN</td>\n",
       "      <td>NaN</td>\n",
       "      <td>NaN</td>\n",
       "      <td>17209.743590</td>\n",
       "      <td>11939.054054</td>\n",
       "    </tr>\n",
       "    <tr>\n",
       "      <th>std</th>\n",
       "      <td>NaN</td>\n",
       "      <td>NaN</td>\n",
       "      <td>NaN</td>\n",
       "      <td>NaN</td>\n",
       "      <td>NaN</td>\n",
       "      <td>4159.515241</td>\n",
       "      <td>3223.018305</td>\n",
       "    </tr>\n",
       "    <tr>\n",
       "      <th>min</th>\n",
       "      <td>NaN</td>\n",
       "      <td>NaN</td>\n",
       "      <td>NaN</td>\n",
       "      <td>NaN</td>\n",
       "      <td>NaN</td>\n",
       "      <td>10940.000000</td>\n",
       "      <td>2700.000000</td>\n",
       "    </tr>\n",
       "    <tr>\n",
       "      <th>25%</th>\n",
       "      <td>NaN</td>\n",
       "      <td>NaN</td>\n",
       "      <td>NaN</td>\n",
       "      <td>NaN</td>\n",
       "      <td>NaN</td>\n",
       "      <td>13785.000000</td>\n",
       "      <td>10450.000000</td>\n",
       "    </tr>\n",
       "    <tr>\n",
       "      <th>50%</th>\n",
       "      <td>NaN</td>\n",
       "      <td>NaN</td>\n",
       "      <td>NaN</td>\n",
       "      <td>NaN</td>\n",
       "      <td>NaN</td>\n",
       "      <td>16230.000000</td>\n",
       "      <td>12420.000000</td>\n",
       "    </tr>\n",
       "    <tr>\n",
       "      <th>75%</th>\n",
       "      <td>NaN</td>\n",
       "      <td>NaN</td>\n",
       "      <td>NaN</td>\n",
       "      <td>NaN</td>\n",
       "      <td>NaN</td>\n",
       "      <td>19305.000000</td>\n",
       "      <td>14200.000000</td>\n",
       "    </tr>\n",
       "    <tr>\n",
       "      <th>max</th>\n",
       "      <td>NaN</td>\n",
       "      <td>NaN</td>\n",
       "      <td>NaN</td>\n",
       "      <td>NaN</td>\n",
       "      <td>NaN</td>\n",
       "      <td>29080.000000</td>\n",
       "      <td>16970.000000</td>\n",
       "    </tr>\n",
       "  </tbody>\n",
       "</table>\n",
       "</div>"
      ],
      "text/plain": [
       "       First_Name Last_Name Grade Location Function            ba  \\\n",
       "count          41        41    40       38       39     39.000000   \n",
       "unique         37        38     2        2        3           NaN   \n",
       "top        Kavita     Singh   GR1   MUMBAI    SALES           NaN   \n",
       "freq            2         2    23       21       15           NaN   \n",
       "mean          NaN       NaN   NaN      NaN      NaN  17209.743590   \n",
       "std           NaN       NaN   NaN      NaN      NaN   4159.515241   \n",
       "min           NaN       NaN   NaN      NaN      NaN  10940.000000   \n",
       "25%           NaN       NaN   NaN      NaN      NaN  13785.000000   \n",
       "50%           NaN       NaN   NaN      NaN      NaN  16230.000000   \n",
       "75%           NaN       NaN   NaN      NaN      NaN  19305.000000   \n",
       "max           NaN       NaN   NaN      NaN      NaN  29080.000000   \n",
       "\n",
       "                  ms  \n",
       "count      37.000000  \n",
       "unique           NaN  \n",
       "top              NaN  \n",
       "freq             NaN  \n",
       "mean    11939.054054  \n",
       "std      3223.018305  \n",
       "min      2700.000000  \n",
       "25%     10450.000000  \n",
       "50%     12420.000000  \n",
       "75%     14200.000000  \n",
       "max     16970.000000  "
      ]
     },
     "execution_count": 14,
     "metadata": {},
     "output_type": "execute_result"
    }
   ],
   "source": [
    "#Same as summary() in R\n",
    "salary.describe(include='all')"
   ]
  },
  {
   "cell_type": "code",
   "execution_count": 15,
   "metadata": {},
   "outputs": [
    {
     "data": {
      "text/html": [
       "<div>\n",
       "<style>\n",
       "    .dataframe thead tr:only-child th {\n",
       "        text-align: right;\n",
       "    }\n",
       "\n",
       "    .dataframe thead th {\n",
       "        text-align: left;\n",
       "    }\n",
       "\n",
       "    .dataframe tbody tr th {\n",
       "        vertical-align: top;\n",
       "    }\n",
       "</style>\n",
       "<table border=\"1\" class=\"dataframe\">\n",
       "  <thead>\n",
       "    <tr style=\"text-align: right;\">\n",
       "      <th></th>\n",
       "      <th>First_Name</th>\n",
       "      <th>Last_Name</th>\n",
       "      <th>Grade</th>\n",
       "      <th>Location</th>\n",
       "      <th>Function</th>\n",
       "      <th>ba</th>\n",
       "      <th>ms</th>\n",
       "    </tr>\n",
       "  </thead>\n",
       "  <tbody>\n",
       "    <tr>\n",
       "      <th>0</th>\n",
       "      <td>Mahesh</td>\n",
       "      <td>Joshi</td>\n",
       "      <td>GR1</td>\n",
       "      <td>DELHI</td>\n",
       "      <td>SALES</td>\n",
       "      <td>17990.0</td>\n",
       "      <td>16070.0</td>\n",
       "    </tr>\n",
       "  </tbody>\n",
       "</table>\n",
       "</div>"
      ],
      "text/plain": [
       "  First_Name Last_Name Grade Location Function       ba       ms\n",
       "0     Mahesh     Joshi   GR1    DELHI    SALES  17990.0  16070.0"
      ]
     },
     "execution_count": 15,
     "metadata": {},
     "output_type": "execute_result"
    }
   ],
   "source": [
    "salary.head(1)"
   ]
  },
  {
   "cell_type": "code",
   "execution_count": 5,
   "metadata": {},
   "outputs": [
    {
     "data": {
      "text/plain": [
       "(41, 7)"
      ]
     },
     "execution_count": 5,
     "metadata": {},
     "output_type": "execute_result"
    }
   ],
   "source": [
    "#Dimension of the data\n",
    "salary.shape"
   ]
  },
  {
   "cell_type": "code",
   "execution_count": 17,
   "metadata": {},
   "outputs": [
    {
     "data": {
      "text/html": [
       "<div>\n",
       "<style>\n",
       "    .dataframe thead tr:only-child th {\n",
       "        text-align: right;\n",
       "    }\n",
       "\n",
       "    .dataframe thead th {\n",
       "        text-align: left;\n",
       "    }\n",
       "\n",
       "    .dataframe tbody tr th {\n",
       "        vertical-align: top;\n",
       "    }\n",
       "</style>\n",
       "<table border=\"1\" class=\"dataframe\">\n",
       "  <thead>\n",
       "    <tr style=\"text-align: right;\">\n",
       "      <th></th>\n",
       "      <th>Last_Name</th>\n",
       "      <th>First_Name</th>\n",
       "    </tr>\n",
       "  </thead>\n",
       "  <tbody>\n",
       "    <tr>\n",
       "      <th>0</th>\n",
       "      <td>Joshi</td>\n",
       "      <td>Mahesh</td>\n",
       "    </tr>\n",
       "  </tbody>\n",
       "</table>\n",
       "</div>"
      ],
      "text/plain": [
       "  Last_Name First_Name\n",
       "0     Joshi     Mahesh"
      ]
     },
     "execution_count": 17,
     "metadata": {},
     "output_type": "execute_result"
    }
   ],
   "source": [
    "salary[['Last_Name', 'First_Name']].head(1)"
   ]
  },
  {
   "cell_type": "code",
   "execution_count": 21,
   "metadata": {
    "collapsed": true
   },
   "outputs": [],
   "source": [
    "#subsetting using a criteria; like subset() in R\n",
    "salary3=salary[(salary.Location == 'DELHI') & (salary.ba >20000)]"
   ]
  },
  {
   "cell_type": "code",
   "execution_count": 23,
   "metadata": {},
   "outputs": [
    {
     "data": {
      "text/html": [
       "<div>\n",
       "<style>\n",
       "    .dataframe thead tr:only-child th {\n",
       "        text-align: right;\n",
       "    }\n",
       "\n",
       "    .dataframe thead th {\n",
       "        text-align: left;\n",
       "    }\n",
       "\n",
       "    .dataframe tbody tr th {\n",
       "        vertical-align: top;\n",
       "    }\n",
       "</style>\n",
       "<table border=\"1\" class=\"dataframe\">\n",
       "  <thead>\n",
       "    <tr style=\"text-align: right;\">\n",
       "      <th></th>\n",
       "      <th>First_Name</th>\n",
       "      <th>Last_Name</th>\n",
       "      <th>Grade</th>\n",
       "      <th>Location</th>\n",
       "      <th>Function</th>\n",
       "      <th>ba</th>\n",
       "      <th>ms</th>\n",
       "    </tr>\n",
       "  </thead>\n",
       "  <tbody>\n",
       "    <tr>\n",
       "      <th>0</th>\n",
       "      <td>False</td>\n",
       "      <td>False</td>\n",
       "      <td>False</td>\n",
       "      <td>False</td>\n",
       "      <td>False</td>\n",
       "      <td>False</td>\n",
       "      <td>False</td>\n",
       "    </tr>\n",
       "  </tbody>\n",
       "</table>\n",
       "</div>"
      ],
      "text/plain": [
       "   First_Name  Last_Name  Grade  Location  Function     ba     ms\n",
       "0       False      False  False     False     False  False  False"
      ]
     },
     "execution_count": 23,
     "metadata": {},
     "output_type": "execute_result"
    }
   ],
   "source": [
    "#To check the nan in the data\n",
    "pd.isnull(salary).head(1)"
   ]
  },
  {
   "cell_type": "code",
   "execution_count": 33,
   "metadata": {
    "collapsed": true
   },
   "outputs": [
    {
     "data": {
      "text/html": [
       "<div>\n",
       "<style>\n",
       "    .dataframe thead tr:only-child th {\n",
       "        text-align: right;\n",
       "    }\n",
       "\n",
       "    .dataframe thead th {\n",
       "        text-align: left;\n",
       "    }\n",
       "\n",
       "    .dataframe tbody tr th {\n",
       "        vertical-align: top;\n",
       "    }\n",
       "</style>\n",
       "<table border=\"1\" class=\"dataframe\">\n",
       "  <thead>\n",
       "    <tr style=\"text-align: right;\">\n",
       "      <th></th>\n",
       "      <th>First_Name</th>\n",
       "      <th>Last_Name</th>\n",
       "      <th>Grade</th>\n",
       "      <th>Location</th>\n",
       "      <th>Function</th>\n",
       "      <th>ba</th>\n",
       "      <th>ms</th>\n",
       "    </tr>\n",
       "  </thead>\n",
       "  <tbody>\n",
       "    <tr>\n",
       "      <th>8</th>\n",
       "      <td>Nishi</td>\n",
       "      <td>Kulkarni</td>\n",
       "      <td>GR1</td>\n",
       "      <td>NaN</td>\n",
       "      <td>SALES</td>\n",
       "      <td>22620.0</td>\n",
       "      <td>16150.0</td>\n",
       "    </tr>\n",
       "    <tr>\n",
       "      <th>12</th>\n",
       "      <td>Anjali</td>\n",
       "      <td>Sonar</td>\n",
       "      <td>GR1</td>\n",
       "      <td>MUMBAI</td>\n",
       "      <td>NaN</td>\n",
       "      <td>14410.0</td>\n",
       "      <td>10450.0</td>\n",
       "    </tr>\n",
       "    <tr>\n",
       "      <th>14</th>\n",
       "      <td>Rahul</td>\n",
       "      <td>Potdar</td>\n",
       "      <td>GR1</td>\n",
       "      <td>MUMBAI</td>\n",
       "      <td>SALES</td>\n",
       "      <td>15125.0</td>\n",
       "      <td>NaN</td>\n",
       "    </tr>\n",
       "    <tr>\n",
       "      <th>15</th>\n",
       "      <td>Ganesh</td>\n",
       "      <td>Sane</td>\n",
       "      <td>NaN</td>\n",
       "      <td>MUMBAI</td>\n",
       "      <td>SALES</td>\n",
       "      <td>NaN</td>\n",
       "      <td>12120.0</td>\n",
       "    </tr>\n",
       "    <tr>\n",
       "      <th>17</th>\n",
       "      <td>Anand</td>\n",
       "      <td>Soman</td>\n",
       "      <td>GR1</td>\n",
       "      <td>NaN</td>\n",
       "      <td>FINANCE</td>\n",
       "      <td>16540.0</td>\n",
       "      <td>12780.0</td>\n",
       "    </tr>\n",
       "    <tr>\n",
       "      <th>23</th>\n",
       "      <td>Kavita</td>\n",
       "      <td>NS</td>\n",
       "      <td>GR1</td>\n",
       "      <td>MUMBAI</td>\n",
       "      <td>NaN</td>\n",
       "      <td>17520.0</td>\n",
       "      <td>NaN</td>\n",
       "    </tr>\n",
       "  </tbody>\n",
       "</table>\n",
       "</div>"
      ],
      "text/plain": [
       "   First_Name Last_Name Grade Location Function       ba       ms\n",
       "8       Nishi  Kulkarni   GR1      NaN    SALES  22620.0  16150.0\n",
       "12     Anjali     Sonar   GR1   MUMBAI      NaN  14410.0  10450.0\n",
       "14      Rahul    Potdar   GR1   MUMBAI    SALES  15125.0      NaN\n",
       "15     Ganesh      Sane   NaN   MUMBAI    SALES      NaN  12120.0\n",
       "17      Anand     Soman   GR1      NaN  FINANCE  16540.0  12780.0\n",
       "23     Kavita        NS   GR1   MUMBAI      NaN  17520.0      NaN"
      ]
     },
     "execution_count": 33,
     "metadata": {},
     "output_type": "execute_result"
    }
   ],
   "source": [
    "#Show row which have nan. any() returns whether any element is True over requested axis. Its's format is pandas.dataframe.any\n",
    "salary[pd.isnull(salary).any(axis=1)].head(6)"
   ]
  },
  {
   "cell_type": "code",
   "execution_count": 34,
   "metadata": {
    "collapsed": true
   },
   "outputs": [],
   "source": [
    "salary6=salary[(salary.Grade!=\"GR!\") & (salary.Location!='MUMBAI')]"
   ]
  },
  {
   "cell_type": "code",
   "execution_count": 53,
   "metadata": {},
   "outputs": [
    {
     "data": {
      "text/html": [
       "<div>\n",
       "<style>\n",
       "    .dataframe thead tr:only-child th {\n",
       "        text-align: right;\n",
       "    }\n",
       "\n",
       "    .dataframe thead th {\n",
       "        text-align: left;\n",
       "    }\n",
       "\n",
       "    .dataframe tbody tr th {\n",
       "        vertical-align: top;\n",
       "    }\n",
       "</style>\n",
       "<table border=\"1\" class=\"dataframe\">\n",
       "  <thead>\n",
       "    <tr style=\"text-align: right;\">\n",
       "      <th></th>\n",
       "      <th>First_Name</th>\n",
       "      <th>Last_Name</th>\n",
       "      <th>Grade</th>\n",
       "      <th>Location</th>\n",
       "      <th>Function</th>\n",
       "      <th>ba</th>\n",
       "      <th>ms</th>\n",
       "    </tr>\n",
       "  </thead>\n",
       "  <tbody>\n",
       "    <tr>\n",
       "      <th>12</th>\n",
       "      <td>Anjali</td>\n",
       "      <td>Sonar</td>\n",
       "      <td>GR1</td>\n",
       "      <td>MUMBAI</td>\n",
       "      <td>NaN</td>\n",
       "      <td>14410.0</td>\n",
       "      <td>10450.0</td>\n",
       "    </tr>\n",
       "    <tr>\n",
       "      <th>14</th>\n",
       "      <td>Rahul</td>\n",
       "      <td>Potdar</td>\n",
       "      <td>GR1</td>\n",
       "      <td>MUMBAI</td>\n",
       "      <td>SALES</td>\n",
       "      <td>15125.0</td>\n",
       "      <td>NaN</td>\n",
       "    </tr>\n",
       "  </tbody>\n",
       "</table>\n",
       "</div>"
      ],
      "text/plain": [
       "   First_Name Last_Name Grade Location Function       ba       ms\n",
       "12     Anjali     Sonar   GR1   MUMBAI      NaN  14410.0  10450.0\n",
       "14      Rahul    Potdar   GR1   MUMBAI    SALES  15125.0      NaN"
      ]
     },
     "execution_count": 53,
     "metadata": {},
     "output_type": "execute_result"
    }
   ],
   "source": [
    "#Sorting of data frame using pandas\n",
    "#salary.sort_values(by='ba', ascending=False).head(2)\n",
    "#sorting by multiple columns\n",
    "salary.sort_values(by=['Grade','ba']).head(2)"
   ]
  },
  {
   "cell_type": "code",
   "execution_count": null,
   "metadata": {
    "collapsed": true
   },
   "outputs": [],
   "source": [
    "#To delete a variable\n",
    "%reset_selective sorted_salary9"
   ]
  },
  {
   "cell_type": "code",
   "execution_count": 66,
   "metadata": {
    "collapsed": true
   },
   "outputs": [],
   "source": [
    "#Different ways of joining two or more dataframes.\n",
    "\n",
    "#Concatenation\n",
    "join=pd.concat([salary, salary3], ignore_index=True)\n",
    "#like rbind() in R\n",
    "join3=pd.concat([salary, salary3], axis=1)\n",
    "\n",
    "#Append\n",
    "join1=salary.append(salary3, ignore_index=True)\n",
    "\n",
    "#Merge\n",
    "sal_data=pd.read_csv(\"sal_data.csv\")\n",
    "bonus_data=pd.read_csv(\"bonus_data.csv\")\n",
    "join2=pd.merge(sal_data, bonus_data,how='outer',on='Employee_ID')"
   ]
  },
  {
   "cell_type": "code",
   "execution_count": 72,
   "metadata": {
    "collapsed": true
   },
   "outputs": [],
   "source": [
    "#Aggregate \n",
    "A=salary.groupby('Location').agg({'ba':'mean'})"
   ]
  },
  {
   "cell_type": "code",
   "execution_count": 79,
   "metadata": {},
   "outputs": [
    {
     "data": {
      "text/plain": [
       "'First_Name'"
      ]
     },
     "execution_count": 79,
     "metadata": {},
     "output_type": "execute_result"
    }
   ],
   "source": [
    "#To rename the column\n",
    "salary.rename(columns={'ba':'Basic Allowance'}, inplace=True)\n",
    "\n",
    "#The following command can be used to rename all or some of the columns.\n",
    "salary.columns=[''] #not complete, when index is not mention, it can be used to rename all the columns\n",
    "salary.columns[3]=[''] #not complete, it will rename column 4"
   ]
  },
  {
   "cell_type": "code",
   "execution_count": 80,
   "metadata": {
    "collapsed": true
   },
   "outputs": [],
   "source": [
    "#Adding new column\n",
    "salary['Bonus']=salary['Basic Allowance']*0.05"
   ]
  },
  {
   "cell_type": "code",
   "execution_count": 94,
   "metadata": {
    "collapsed": true
   },
   "outputs": [],
   "source": [
    "#Like the ifelse() in R, to change value stored in the column\n",
    "salary['Location']=np.where(salary['Location']=='MUMBAI',1,2)\n",
    "\n",
    "#np.where for multiple conditions\n",
    "salary['Category']=np.where(salary['Basic Allowance']<14000,\"Low\",(np.where(salary['Basic Allowance']<19000,\"Medium\",\"High\")))\n",
    "\n",
    "#cut function like the function in R.\n",
    "pd.cut(salary['Basic Allowance'], [0,14000,19000, np.inf], labels=['Low','Medium','High']).head(6)"
   ]
  },
  {
   "cell_type": "code",
   "execution_count": 104,
   "metadata": {
    "collapsed": true
   },
   "outputs": [],
   "source": [
    "#To remove first 5 rows\n",
    "salary.drop(salary.index[0:5],inplace=True) \n",
    "\n",
    "#to remove columns\n",
    "salary.drop(['Category'], axis=1)"
   ]
  },
  {
   "cell_type": "code",
   "execution_count": 113,
   "metadata": {
    "collapsed": true
   },
   "outputs": [],
   "source": [
    "#Frequency Table\n",
    "pd.crosstab(index=salary.Grade,columns=salary.Function)\n",
    "\n",
    "#Three-way Frequency Table\n",
    "pd.crosstab(index=[salary.Grade, salary.Location],columns=salary.Function)\n",
    "\n",
    "#Proportion table\n",
    "pd.crosstab(index=salary.Grade, columns=salary.Function, normalize='index')"
   ]
  },
  {
   "cell_type": "code",
   "execution_count": null,
   "metadata": {
    "collapsed": true
   },
   "outputs": [],
   "source": [
    "#Converting variables to the date format\n",
    "\n",
    "#in both the cases variable is stored as object type\n",
    "\n",
    "#if the date is in some other format:\n",
    "final['trending_date']=pd.to_datetime(final['trending_date'],format='%y.%d.%m')\n",
    "\n",
    "#if variable is in proper format but stored as object:\n",
    "final['publish_time']=pd.to_datetime(final['publish_time'])"
   ]
  },
  {
   "cell_type": "code",
   "execution_count": null,
   "metadata": {
    "collapsed": true
   },
   "outputs": [],
   "source": [
    "#to extract only date\n",
    "final['publish_time'].dt.date\n",
    "\n",
    "#to extract only time\n",
    "final['publish_time'].dt.time"
   ]
  }
 ],
 "metadata": {
  "kernelspec": {
   "display_name": "Python 3",
   "language": "python",
   "name": "python3"
  },
  "language_info": {
   "codemirror_mode": {
    "name": "ipython",
    "version": 3
   },
   "file_extension": ".py",
   "mimetype": "text/x-python",
   "name": "python",
   "nbconvert_exporter": "python",
   "pygments_lexer": "ipython3",
   "version": "3.6.5"
  }
 },
 "nbformat": 4,
 "nbformat_minor": 2
}
