{
 "cells": [
  {
   "cell_type": "markdown",
   "metadata": {},
   "source": [
    "## [Python & APIs: A Winning Combo for Reading Public Data](https://realpython.com/python-api/)"
   ]
  },
  {
   "cell_type": "markdown",
   "metadata": {},
   "source": [
    "#### Getting to Know APIs\n",
    "- **API** stands for *application programming interface*. In essence, an API acts as a communication layer, or interface, that allows different systems to talk to each other without having to understand exactly what the others do.\n",
    "- Working of API: You usually make a request for information or data, and the API returns a response with what you requested.\n",
    "- An **endpoint** is a part of the URL that specifies what resource you want to fetch. Well-documented APIs usually contain an **API reference**, which is extremely useful for knowing exactly which endpoints and resources an API has and how to use them."
   ]
  },
  {
   "cell_type": "markdown",
   "metadata": {},
   "source": [
    "##### HTTP Headers\n",
    "- **Accept**: What type of content the client can accept\n",
    "- **Content-Type**: What type of content the server will respond with\n",
    "- **User-Agent**: What software the client is using to communicate with the server\n",
    "- **Server**: What software the server is using to communicate with the client\n",
    "- **Authentication**: Who’s calling the API and what credentials they have\n"
   ]
  },
  {
   "cell_type": "markdown",
   "metadata": {},
   "source": [
    "##### HTTP Methods\n",
    "- When calling an API, there are a few different methods, also called verbs, that you can use to specify what action you want to execute. `POST`, `GET` `PUT` and `DELETE` (`C`reate, `R`ead, `U`pdate and `D`elete: `CRUD`)"
   ]
  },
  {
   "cell_type": "markdown",
   "metadata": {},
   "source": [
    "##### Query Parameters\n",
    "- Sometimes when you call an API, you get a ton of data that you don’t need or want. To add a query parameter to a given URL, you have to add a question mark (?) before the first query parameter. If you want to have multiple query parameters in your request, then you can split them with an ampersand (&).\n",
    "\n",
    "```python\n",
    "query_params = {\"gender\": \"female\", \"nat\": \"de\"}\n",
    "requests.get(\"https://randomuser.me/api/\", params=query_params).json()\n",
    "```"
   ]
  },
  {
   "cell_type": "markdown",
   "metadata": {},
   "source": [
    "#### [OAuth](https://developer.okta.com/blog/2017/06/21/what-the-heck-is-oauth)\n",
    "- To break it down simply, OAuth is where:\n",
    "    1. App requests authorization from User\n",
    "    2. User authorizes App and delivers proof\n",
    "    3. App presents proof of authorization to server to get a Token\n",
    "    4. Token is restricted to only access what the User authorized for the specific App\n",
    "(read when needed)"
   ]
  },
  {
   "cell_type": "markdown",
   "metadata": {},
   "source": [
    "##### Pagination\n",
    "- Sending lots of data back and forth between clients and servers comes with a price: *bandwidth*. To make sure that servers can cope with a lot of requests, APIs typically use pagination.\n",
    "- In very simple terms, **pagination** is the act of splitting large amounts of data into multiple smaller pieces.\n",
    "- For APIs in particular, this is normally handled with the help of query parameters, mainly the following two:\n",
    "    1. A page attribute that defines which page you’re currently requesting\n",
    "    2. A size attribute that defines the size of each page"
   ]
  },
  {
   "cell_type": "markdown",
   "metadata": {},
   "source": [
    "##### Rate Limiting\n",
    "- Given that APIs are public facing, and anyone can use them, people with bad intentions often try to abuse them. To prevent such attacks, APIs use a technique called **rate limiting**, which restricts the number of requests that users can make in a given time frame."
   ]
  }
 ],
 "metadata": {
  "language_info": {
   "name": "python"
  },
  "orig_nbformat": 4
 },
 "nbformat": 4,
 "nbformat_minor": 2
}
