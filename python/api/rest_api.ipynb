{
 "cells": [
  {
   "cell_type": "markdown",
   "metadata": {},
   "source": [
    "## [Python and REST APIs: Interacting With Web Services](https://realpython.com/api-integration-in-python/)"
   ]
  },
  {
   "cell_type": "markdown",
   "metadata": {},
   "source": [
    "### REST Architecture\n",
    "- **REST** stands for *representational state transfer* and is a software architecture style that defines a pattern for client and server communications over a network. REST provides a set of constraints for software architecture to promote performance, scalability, simplicity, and reliability in the system.\n",
    "- REST defines the following architectural constraints:\n",
    "    - Stateless: The server won’t maintain any state between requests from the client. (from wiki: A *stateless protocol* is a communication protocol in which the receiver must not retain session state from previous requests. The sender transfers relevant session state to the receiver in such a way that every request can be understood in isolation, that is without reference to session state from previous requests retained by the receiver.)\n",
    "    - Client-server: The client and server must be decoupled from each other, allowing each to develop independently.\n",
    "    - Cacheable: The data retrieved from the server should be cacheable either by the client or by the server.\n",
    "    - Uniform interface: The server will provide a uniform interface for accessing resources without defining their representation.\n",
    "    - Layered system: The client may access the resources on the server indirectly through other layers such as a proxy or load balancer.\n",
    "    - Code on demand (optional): The server may transfer code to the client that it can run, such as JavaScript for a single-page application.\n",
    "- Note: REST is not a specification but a set of guidelines on how to architect a network-connected software system."
   ]
  },
  {
   "cell_type": "markdown",
   "metadata": {},
   "source": [
    "### REST APIs and Web Services\n",
    "- A REST web service: adheres to REST architecture constraints. These web services expose their data to the outside world through an API. REST APIs provide access to web service data through public web URLs (called endpoint). URL allows access information of data from a REST API by sending an HTTP request to a specific URL and processing the response.\n",
    "\n",
    "#### HTTP Methods\n",
    "- REST APIs listen for HTTP methods like GET, POST, and DELETE to know which operations to perform on the web service’s resources. A resource is any data available in the web service that can be accessed and manipulated with HTTP requests to the REST API. The HTTP method tells the API which action to perform on the resource."
   ]
  },
  {
   "cell_type": "markdown",
   "metadata": {},
   "source": [
    "### REST and Python: Consuming APIs\n",
    "- [jsonplaceholder](https://jsonplaceholder.typicode.com/): free service provides fake API endpoints that send back responses that `requests` (python package) can process."
   ]
  },
  {
   "cell_type": "markdown",
   "metadata": {},
   "source": [
    "### REST and Python: Building APIs\n",
    "##### Identify Resources\n",
    "##### Define Your Endpoints\n",
    "- A **query string** allows you to send additional parameters with your HTTP request. This is preferred to access a nested resource. In the following endpoint, you append a query string to get guests for a specific event_id:\n",
    "```\n",
    "GET /guests?event_id=23\n",
    "```\n",
    "- Resources will change, and you’ll need to update your endpoints to reflect these changes. This is where API versioning comes in. API versioning allows you to modify your API without fear of breaking existing integrations. There’s a wide range of versioning strategies. Selecting the right option depends on the requirements of your API. Below are some of the most popular options for API versioning:\n",
    "    - [URI versioning](https://learn.microsoft.com/en-us/azure/architecture/best-practices/api-design#uri-versioning)\n",
    "    - [HTTP header versioning](https://learn.microsoft.com/en-us/azure/architecture/best-practices/api-design#header-versioning)\n",
    "    - [Query string versioning](https://learn.microsoft.com/en-us/azure/architecture/best-practices/api-design#query-string-versioning)\n",
    "    - [Media type versioning](https://learn.microsoft.com/en-us/azure/architecture/best-practices/api-design#media-type-versioning)\n",
    "\n",
    "##### Pick Your Data Interchange Format\n",
    "- XML was very popular with SOAP APIs, but JSON is more popular with REST APIs.\n",
    "\n",
    "##### Design Success Responses\n",
    "- All responses from your REST API should have a similar format and include the proper HTTP status code.\n",
    "\n",
    "##### Design Error Responses"
   ]
  },
  {
   "cell_type": "markdown",
   "metadata": {},
   "source": [
    "### REST and Python: Tools of the Trade\n",
    "#### Flask\n",
    "- LATER"
   ]
  },
  {
   "cell_type": "markdown",
   "metadata": {},
   "source": [
    "#### Django REST Framework\n",
    "- Django plugins (like `rest_framework`) are Django applications that are packaged up and distributed and that anyone can use.\n",
    "- Django REST framework takes an existing Django model and converts it to JSON for a REST API. It does this with model serializers. A model serializer tells Django REST framework how to convert a model instance into JSON and what data to include. Unless specified, a `ModelSerializer` subclass will include all fields from the Django model in the JSON. You can modify this behavior by setting fields to a list of data you wish to include.\n",
    "```python\n",
    "# countries/serializers.py\n",
    "from rest_framework import serializers\n",
    "from .models import Country\n",
    "\n",
    "class CountrySerializer(serializers.ModelSerializer):\n",
    "    class Meta:\n",
    "        model = Country\n",
    "        fields = [\"id\", \"name\", \"capital\", \"area\"]\n",
    "```\n",
    "- Just like Django, Django REST framework uses views to query data from the database to display to the user. Instead of writing REST API views from scratch, you can subclass Django REST framework’s [`ModelViewSet` class](https://www.django-rest-framework.org/api-guide/viewsets/), which has default views for common REST API operations. Note: The Django REST framework documentation refers to these views as actions.\n",
    "```python\n",
    "# countries/views.py\n",
    "from rest_framework import viewsets\n",
    "\n",
    "from .models import Country\n",
    "from .serializers import CountrySerializer\n",
    "\n",
    "class CountryViewSet(viewsets.ModelViewSet):\n",
    "    serializer_class = CountrySerializer\n",
    "    queryset = Country.objects.all()\n",
    "```\n",
    "- The following code creates a DefaultRouter and registers CountryViewSet under the countries URL. This will place all the URLs for CountryViewSet under /countries/.\n",
    "```python\n",
    "# countries/urls.py\n",
    "from django.urls import path, include\n",
    "from rest_framework.routers import DefaultRouter\n",
    "\n",
    "from .views import CountryViewSet\n",
    "\n",
    "router = DefaultRouter()\n",
    "router.register(r\"countries\", CountryViewSet)\n",
    "\n",
    "urlpatterns = [\n",
    "    path(\"\", include(router.urls))\n",
    "]\n",
    "```\n",
    "- Note: Django REST framework automatically appends a forward slash (/) to the end of any endpoints generated by DefaultRouter. You can disable this behavior like so:\n",
    "```python\n",
    "router = DefaultRouter(trailing_slash=False)\n",
    "```"
   ]
  },
  {
   "cell_type": "markdown",
   "metadata": {},
   "source": [
    "#### FastAPI\n",
    "- LATER"
   ]
  }
 ],
 "metadata": {
  "language_info": {
   "name": "python"
  },
  "orig_nbformat": 4
 },
 "nbformat": 4,
 "nbformat_minor": 2
}
